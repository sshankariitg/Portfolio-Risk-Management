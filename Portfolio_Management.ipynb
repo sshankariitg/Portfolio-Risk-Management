{
  "nbformat": 4,
  "nbformat_minor": 0,
  "metadata": {
    "kernelspec": {
      "display_name": "Python 3",
      "language": "python",
      "name": "python3"
    },
    "language_info": {
      "codemirror_mode": {
        "name": "ipython",
        "version": 3
      },
      "file_extension": ".py",
      "mimetype": "text/x-python",
      "name": "python",
      "nbconvert_exporter": "python",
      "pygments_lexer": "ipython3",
      "version": "3.7.6"
    },
    "colab": {
      "name": "Portfolio-Management.ipynb",
      "provenance": []
    }
  },
  "cells": [
    {
      "cell_type": "code",
      "metadata": {
        "id": "vfKIAur_0k2b"
      },
      "source": [
        "import pandas as pd\n",
        "import numpy as np\n",
        "import matplotlib.pyplot as plt\n",
        "import pandas_datareader as web"
      ],
      "execution_count": null,
      "outputs": []
    },
    {
      "cell_type": "code",
      "metadata": {
        "id": "JrQjLCtm0k2e"
      },
      "source": [
        "tick = ['CIPLA.NS', 'AAPL', 'MSFT', 'TSLA', 'GOOGL']\n",
        "price_data = web.get_data_yahoo(tick,\n",
        "                           start = '2015-04-01',\n",
        "                           end = '2017-03-31')['Adj Close']"
      ],
      "execution_count": null,
      "outputs": []
    },
    {
      "cell_type": "code",
      "metadata": {
        "id": "OcMvNOsR0k2f"
      },
      "source": [
        "log_ret = np.log(price_data/price_data.shift(1))"
      ],
      "execution_count": null,
      "outputs": []
    },
    {
      "cell_type": "markdown",
      "metadata": {
        "id": "YtWf2q6l1nf3"
      },
      "source": [
        "we will calculate the covariance matrix."
      ]
    },
    {
      "cell_type": "code",
      "metadata": {
        "id": "mAVBVh4l0k2f",
        "outputId": "5bc74ed4-7c20-4f14-ae38-05dc69b2fcf3"
      },
      "source": [
        "cov_mat = log_ret.cov() * 252\n",
        "print(cov_mat)"
      ],
      "execution_count": null,
      "outputs": [
        {
          "output_type": "stream",
          "text": [
            "Symbols   CIPLA.NS      AAPL      MSFT      TSLA     GOOGL\n",
            "Symbols                                                   \n",
            "CIPLA.NS  0.061046  0.000339  0.001312  0.008324  0.004867\n",
            "AAPL      0.000339  0.057180  0.029112  0.025693  0.025015\n",
            "MSFT      0.001312  0.029112  0.056608  0.026593  0.034231\n",
            "TSLA      0.008324  0.025693  0.026593  0.148001  0.027321\n",
            "GOOGL     0.004867  0.025015  0.034231  0.027321  0.055912\n"
          ],
          "name": "stdout"
        }
      ]
    },
    {
      "cell_type": "markdown",
      "metadata": {
        "id": "r7YEjOd91y-U"
      },
      "source": [
        " we will jump into the for loop and simulate the portfolio returns and risk on 5000 random portfolios."
      ]
    },
    {
      "cell_type": "code",
      "metadata": {
        "id": "3T44g2OG0k2h"
      },
      "source": [
        "# Simulating 5000 portfolios\n",
        "num_port = 5000\n",
        "# Creating an empty array to store portfolio weights\n",
        "all_wts = np.zeros((num_port, len(price_data.columns)))\n",
        "# Creating an empty array to store portfolio returns\n",
        "port_returns = np.zeros((num_port))\n",
        "# Creating an empty array to store portfolio risks\n",
        "port_risk = np.zeros((num_port))\n",
        "# Creating an empty array to store portfolio sharpe ratio\n",
        "sharpe_ratio = np.zeros((num_port))"
      ],
      "execution_count": null,
      "outputs": []
    },
    {
      "cell_type": "code",
      "metadata": {
        "id": "geExiiUi0k2h"
      },
      "source": [
        "for i in range(num_port):\n",
        "  wts = np.random.uniform(size = len(price_data.columns))\n",
        "  wts = wts/np.sum(wts)\n",
        "  \n",
        "  # saving weights in the array\n",
        "  \n",
        "  all_wts[i,:] = wts\n",
        "  \n",
        "  # Portfolio Returns\n",
        "  \n",
        "  port_ret = np.sum(log_ret.mean() * wts)\n",
        "  port_ret = (port_ret + 1) ** 252 - 1\n",
        "  \n",
        "  # Saving Portfolio returns\n",
        "  \n",
        "  port_returns[i] = port_ret\n",
        "  \n",
        "  \n",
        "  # Portfolio Risk\n",
        "  \n",
        "  port_sd = np.sqrt(np.dot(wts.T, np.dot(cov_mat, wts)))\n",
        "  \n",
        "  port_risk[i] = port_sd\n",
        "  \n",
        "  # Portfolio Sharpe Ratio\n",
        "  # Assuming 0% Risk Free Rate\n",
        "  \n",
        "  sr = port_ret / port_sd\n",
        "  sharpe_ratio[i] = sr"
      ],
      "execution_count": null,
      "outputs": []
    },
    {
      "cell_type": "markdown",
      "metadata": {
        "id": "k_fuNJiu0k2i"
      },
      "source": [
        "We calculate and distibute weights on basis on MIN VARIANCE, MAX SHARPE RATIO & MIN RISK"
      ]
    },
    {
      "cell_type": "code",
      "metadata": {
        "id": "Kk3hJ8Ws0k2i",
        "outputId": "793e4266-1e1e-4dfa-eec2-fbb722440c39"
      },
      "source": [
        "names = price_data.columns\n",
        "min_var = all_wts[port_risk.argmin()]\n",
        "print(min_var)"
      ],
      "execution_count": null,
      "outputs": [
        {
          "output_type": "stream",
          "text": [
            "[0.37324816 0.28612487 0.17124825 0.03967173 0.12970698]\n"
          ],
          "name": "stdout"
        }
      ]
    },
    {
      "cell_type": "code",
      "metadata": {
        "id": "pe22DRTw0k2j",
        "outputId": "2e65fe31-661a-4a1a-b562-3de7cdc99abe"
      },
      "source": [
        "max_sr = all_wts[sharpe_ratio.argmax()]\n",
        "print(max_sr)"
      ],
      "execution_count": null,
      "outputs": [
        {
          "output_type": "stream",
          "text": [
            "[0.01706827 0.03134381 0.55676518 0.0533032  0.34151953]\n"
          ],
          "name": "stdout"
        }
      ]
    },
    {
      "cell_type": "code",
      "metadata": {
        "id": "aIg9b4Rp0k2j",
        "outputId": "6eb38d95-a9c5-4a1b-893a-4040bdd0c2e9"
      },
      "source": [
        "print(sharpe_ratio.max())"
      ],
      "execution_count": null,
      "outputs": [
        {
          "output_type": "stream",
          "text": [
            "1.192647955897052\n"
          ],
          "name": "stdout"
        }
      ]
    },
    {
      "cell_type": "code",
      "metadata": {
        "id": "Rb2Cw0nZ0k2k",
        "outputId": "7523adcc-2927-41c8-f7ee-90c9af767ace"
      },
      "source": [
        "print(port_risk.min())"
      ],
      "execution_count": null,
      "outputs": [
        {
          "output_type": "stream",
          "text": [
            "0.15631186472959055\n"
          ],
          "name": "stdout"
        }
      ]
    },
    {
      "cell_type": "code",
      "metadata": {
        "id": "mN63sQHB0k2k",
        "outputId": "fc35afbb-cfb6-450f-dbf8-18902344320d"
      },
      "source": [
        "fig = plt.figure()\n",
        "ax1 = fig.add_axes([0.1,0.1,0.8,0.8])\n",
        "ax1.set_xlabel('Risk')\n",
        "ax1.set_ylabel(\"Returns\")\n",
        "ax1.set_title(\"Portfolio optimization and Efficient Frontier\")\n",
        "plt.scatter(port_risk, port_returns)\n",
        "plt.show();"
      ],
      "execution_count": null,
      "outputs": [
        {
          "output_type": "display_data",
          "data": {
            "image/png": "[encoded data removed]",
            "text/plain": [
              "<Figure size 432x288 with 1 Axes>"
            ]
          },
          "metadata": {
            "tags": [],
            "needs_background": "light"
          }
        }
      ]
    },
    {
      "cell_type": "markdown",
      "metadata": {
        "id": "bsAujG7v0k2l"
      },
      "source": [
        "# How did you choose the stocks?\n",
        "### Firstly i seen the long run returns of some of my favorite companies stocks in which i wanna invest.The stocks i choose are some of the biggest brand in their respective field with a stable and good return  that would allow profit margins to remain high.\n",
        "\n",
        "\n",
        "\n",
        "\n",
        "\n",
        "\n",
        "\n",
        "\n",
        "\n",
        "\n",
        "\n",
        "\n",
        "\n",
        "\n",
        "\n",
        "\n",
        "\n",
        "\n",
        "\n",
        "\n"
      ]
    },
    {
      "cell_type": "markdown",
      "metadata": {
        "id": "gwUqujgz0k2l"
      },
      "source": [
        "\n",
        "# What is the impact of increasing the number of stocks in the portfolio?\n",
        "### few stocks increase the company risk but on the other hand, too many stocks will make it difficult for you to achieve returns greater than market returns. So increasing stocks will just give you almost same return as to compensate for market risk\n"
      ]
    },
    {
      "cell_type": "markdown",
      "metadata": {
        "id": "0vkm1_cF0k2l"
      },
      "source": [
        "\n",
        "# Why are calculating the weights by optimization and not giving equal weightage to every stock?\n",
        "### All the stocks don't contribute equally towards the growth of our portfolio and hence every stock has a different weightage.By optimizing the weights we get maximum return and reduces market risk to minimum."
      ]
    },
    {
      "cell_type": "markdown",
      "metadata": {
        "id": "f4M1kM6g0k2l"
      },
      "source": [
        "\n",
        "\n",
        "# Which optimization techniques are used by Mutual Funds currently?\n",
        "### i am not sure of these answere very well but i think Monte Carlo optimization is used in recent times.\n",
        "###  Monte Carlo simulations are used to model the probability of different outcomes in a process that cannot easily be predicted due to the intervention of random variables."
      ]
    },
    {
      "cell_type": "markdown",
      "metadata": {
        "id": "B3rv6DRJ0k2m"
      },
      "source": [
        "\n",
        "\n",
        "# Which parameters are you using to check the accuracy of your model?\n",
        "###  by calculating actual and expected return value , varaince and volatility we can calculate accuracy but i really have no clue how to do that therefore not done in code part"
      ]
    },
    {
      "cell_type": "code",
      "metadata": {
        "id": "-AtLG4cT0k2m"
      },
      "source": [
        ""
      ],
      "execution_count": null,
      "outputs": []
    }
  ]
}